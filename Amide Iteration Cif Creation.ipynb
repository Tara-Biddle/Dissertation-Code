{
 "cells": [
  {
   "cell_type": "markdown",
   "id": "85b57a3e",
   "metadata": {},
   "source": [
    "# Amide Position Modelling"
   ]
  },
  {
   "cell_type": "code",
   "execution_count": 1,
   "id": "c7b70715",
   "metadata": {},
   "outputs": [],
   "source": [
    "import numpy as np\n",
    "import array as arr\n",
    "from mayavi import mlab\n",
    "import matplotlib.pyplot as plt\n",
    "\n",
    "def get_incl(x, y, z):\n",
    "    # Gives inclination angle given cartesian coordinates x, y, z\n",
    "    xyd = np.sqrt((x**2) + (y**2))\n",
    "    return np.arctan2(xyd, z)                     \n",
    "\n",
    "def get_az(x, y):\n",
    "    # Gives azimuth angle given cartesian coordinates x, y \n",
    "    az = np.arctan2(y, x)\n",
    "    az[az < 0] += 2*np.pi\n",
    "    return az\n",
    "\n",
    "def plot_axes(n, c=(0., 0., 0.)):    \n",
    "    # n is number of axes wanted, c describes colour of axes\n",
    "    o = np.zeros(2)\n",
    "    a = np.array([0., n])\n",
    "    mlab.plot3d(a, o, o, tube_radius=None, color=c)\n",
    "    mlab.plot3d(o, a, o, tube_radius=None, color=c)\n",
    "    mlab.plot3d(o, o, a, tube_radius=None, color=c)\n",
    "    return\n",
    "\n",
    "def polar_to_cart_elev(r, elev, az):\n",
    "    # converts polar coordinates r, elev, az into cartesian coordinates x, y, z\n",
    "    x = r * np.cos(elev) * np.cos(az)\n",
    "    y = r * np.cos(elev) * np.sin(az)\n",
    "    z = r * np.sin(elev)\n",
    "    return x, y, z"
   ]
  },
  {
   "cell_type": "markdown",
   "id": "ae18e091",
   "metadata": {},
   "source": [
    "## Spherical Plotting"
   ]
  },
  {
   "cell_type": "markdown",
   "id": "af1e4562",
   "metadata": {},
   "source": [
    "Golden Spiral Method:"
   ]
  },
  {
   "cell_type": "code",
   "execution_count": 2,
   "id": "cfde7059",
   "metadata": {},
   "outputs": [],
   "source": [
    "from numpy import pi, cos, sin, arccos, arange\n",
    "\n",
    "def spherical_grid(n=500):\n",
    "    # n is the number of points created on the spherical grid\n",
    "    indices = arange(0, n, dtype=float) + 0.5\n",
    "    phi = arccos(1 - 2*indices/n)\n",
    "    theta = pi * (1 + 5**0.5) * indices\n",
    "    x, y, z = cos(theta) * sin(phi), sin(theta) * sin(phi), cos(phi)\n",
    "    return x, y, z"
   ]
  },
  {
   "cell_type": "code",
   "execution_count": 3,
   "id": "719996ae",
   "metadata": {},
   "outputs": [],
   "source": [
    "# run this cell to visualise your grid\n",
    "fig = mlab.figure(bgcolor=(1., 1., 1.))\n",
    "x, y, z = spherical_grid(n=100)\n",
    "mlab.points3d(x, y, z, scale_mode='none')\n",
    "plot_axes(1.5)\n",
    "mlab.orientation_axes()\n",
    "mlab.show()"
   ]
  },
  {
   "cell_type": "markdown",
   "id": "a4d43a81",
   "metadata": {},
   "source": [
    "## Amide Modelling"
   ]
  },
  {
   "cell_type": "code",
   "execution_count": 4,
   "id": "f921ccfc",
   "metadata": {},
   "outputs": [],
   "source": [
    "def get_amide_circumference(elev, az, n, psi, r=1):   \n",
    "    # generating n points at psi deg on sphere surface from e, a point (psi is the fixed angle between the amide hydrogens)\n",
    "    e = np.pi/2 - elev\n",
    "    a = -(az + np.pi)\n",
    "    \n",
    "    # producing n random points on circumference at psi deg from the north pole (0,0,1)\n",
    "    rdm = np.random.rand()\n",
    "    new_az = np.linspace(rdm, (rdm + 1), n) * 2 * np.pi\n",
    "    new_elev = (np.pi / 2. - psi * np.pi / 180.) * np.ones(n)\n",
    "    \n",
    "    # find cartesian coordinates of these n points - r is the radius of sphere (N-H distance)\n",
    "    x, y, z = polar_to_cart_elev(r, new_elev, new_az)\n",
    "    \n",
    "    # rotate points back to original by putting north pole back to point r, elev, az\n",
    "    sin, cos = np.sin, np.cos\n",
    "    xp = cos(e)*cos(a)*x + sin(a)*y - sin(e)*cos(a)*z\n",
    "    yp = -sin(a)*cos(e)*x + cos(a)*y + sin(a)*sin(e)*z\n",
    "    zp = sin(e)*x + cos(e)*z\n",
    "    return xp, yp, zp\n",
    "\n",
    "x, y, z = spherical_grid(n=100)\n",
    "\n",
    "pt_elev = np.pi / 2. - get_incl(x, y, z)\n",
    "pt_az = get_az(x, y)"
   ]
  },
  {
   "cell_type": "code",
   "execution_count": 6,
   "id": "a4dc7219",
   "metadata": {},
   "outputs": [],
   "source": [
    "def plot_each_amide(n, a, amide_angle):\n",
    "    # n = number of random points on circumference\n",
    "    # a = index of point on spherical grid, \n",
    "    # amide_angle = (psi) angle in deg to circumference\n",
    "    xp, yp, zp = get_amide_circumference(pt_elev[a], pt_az[a], n, amide_angle)\n",
    "    x0, y0, z0 = polar_to_cart_elev(1, pt_elev[a], pt_az[a])\n",
    "\n",
    "    mlab.figure(bgcolor=(1., 1., 1.))\n",
    "    mlab.points3d(x, y, z, scale_factor=0.1, scale_mode='none')\n",
    "    mlab.points3d(x0, y0, z0, color=(1., 0., 0.), scale_factor=0.1)\n",
    "    mlab.points3d(xp, yp, zp, color=(0., 0., 1.), scale_factor=0.1)\n",
    "    plot_axes(1.5)\n",
    "    mlab.orientation_axes()\n",
    "    mlab.show()\n",
    "    \n",
    "#plot_each_amide(8, 50, 101.56)"
   ]
  },
  {
   "cell_type": "markdown",
   "id": "9c79e227",
   "metadata": {},
   "source": [
    "## Iterating through all positions:"
   ]
  },
  {
   "cell_type": "code",
   "execution_count": 10,
   "id": "71e9ab12",
   "metadata": {},
   "outputs": [],
   "source": [
    "def iterate(n_grid=100, n_circ=8, amide_angle=101.5643):\n",
    "    # creating arrays of coordinates corresponding to the positions of each hydrogen in the amide\n",
    "    x1 = arr.array('f', [])\n",
    "    y1 = arr.array('f', [])\n",
    "    z1 = arr.array('f', [])\n",
    "    x2 = arr.array('f', [])\n",
    "    y2 = arr.array('f', [])\n",
    "    z2 = arr.array('f', [])\n",
    "    \n",
    "    x, y, z = spherical_grid(n_grid)\n",
    "    pt_elev = np.pi / 2. - get_incl(x, y, z)\n",
    "    pt_az = get_az(x, y)\n",
    "    for i in range(len(x)):\n",
    "        xp, yp, zp = get_amide_circumference(pt_elev[i], pt_az[i], n_circ, amide_angle, r=1.03149)\n",
    "        x0, y0, z0 = polar_to_cart_elev(1.03149, pt_elev[i], pt_az[i])                 # r in angstrom\n",
    "\n",
    "        x2.extend(xp[0:7]) # xp has 8 values in it - the first and last are duplicated\n",
    "        y2.extend(yp[0:7])\n",
    "        z2.extend(zp[0:7])\n",
    "        x1.extend([x0 for a in range(7)])\n",
    "        y1.extend([y0 for a in range(7)])\n",
    "        z1.extend([z0 for a in range(7)])\n",
    "        \n",
    "    return x1, y1, z1, x2, y2, z2"
   ]
  },
  {
   "cell_type": "markdown",
   "id": "80edc5a2",
   "metadata": {},
   "source": [
    "Coordinates centered around the nitrogen atom:"
   ]
  },
  {
   "cell_type": "code",
   "execution_count": 11,
   "id": "a2a88bac",
   "metadata": {},
   "outputs": [],
   "source": [
    "x1, y1, z1, x2, y2, z2 = iterate(n_grid=100, n_circ=8, amide_angle=101.5643)"
   ]
  },
  {
   "cell_type": "code",
   "execution_count": 13,
   "id": "b2828bd4",
   "metadata": {},
   "outputs": [],
   "source": [
    "# check it looks ok\n",
    "mlab.figure(bgcolor=(1., 1., 1.))\n",
    "mlab.points3d(x1[7], y1[7], z1[7], scale_factor=0.1, scale_mode='none')\n",
    "mlab.points3d(x2[7:14], y2[7:14], z2[7:14], color=(1., 0., 0.), scale_factor=0.1)\n",
    "plot_axes(1.5)\n",
    "mlab.orientation_axes()\n",
    "#mlab.show()"
   ]
  },
  {
   "cell_type": "markdown",
   "id": "2da8ceb1",
   "metadata": {},
   "source": [
    "## Creating each cif file:"
   ]
  },
  {
   "cell_type": "code",
   "execution_count": 14,
   "id": "f0b33c10",
   "metadata": {},
   "outputs": [],
   "source": [
    "from pymatgen.io.cif import CifParser, CifWriter\n",
    "fname = 'C:\\\\Users\\\\Path\\\\NaNH2.cif'\n",
    "cif = CifParser(fname)"
   ]
  },
  {
   "cell_type": "code",
   "execution_count": 15,
   "id": "97f3b238",
   "metadata": {},
   "outputs": [],
   "source": [
    "structure = cif.get_structures()[0]"
   ]
  },
  {
   "cell_type": "code",
   "execution_count": 16,
   "id": "24b2b77c",
   "metadata": {},
   "outputs": [
    {
     "data": {
      "text/plain": [
       "Structure Summary\n",
       "Lattice\n",
       "    abc : 8.34421466 9.00508907 10.46958114\n",
       " angles : 90.0 90.0 90.0\n",
       " volume : 786.6884752479067\n",
       "      A : 8.34421466 0.0 0.0\n",
       "      B : 0.0 9.00508907 0.0\n",
       "      C : 0.0 0.0 10.46958114\n",
       "    pbc : True True True\n",
       "PeriodicSite: Na (6.2582, 6.7538, 6.3397) [0.7500, 0.7500, 0.6055]\n",
       "PeriodicSite: Na (6.2582, 6.7538, 9.3647) [0.7500, 0.7500, 0.8945]\n",
       "PeriodicSite: Na (4.1721, 0.0000, 8.9571) [0.5000, 0.0000, 0.8555]\n",
       "PeriodicSite: Na (0.0000, 0.0000, 6.7473) [0.0000, 0.0000, 0.6445]\n",
       "PeriodicSite: Na (6.2582, 2.2513, 1.1049) [0.7500, 0.2500, 0.1055]\n",
       "PeriodicSite: Na (6.2582, 2.2513, 4.1299) [0.7500, 0.2500, 0.3945]\n",
       "PeriodicSite: Na (4.1721, 4.5025, 3.7223) [0.5000, 0.5000, 0.3555]\n",
       "PeriodicSite: Na (0.0000, 4.5025, 1.5125) [0.0000, 0.5000, 0.1445]\n",
       "PeriodicSite: Na (2.0861, 6.7538, 1.1049) [0.2500, 0.7500, 0.1055]\n",
       "PeriodicSite: Na (2.0861, 6.7538, 4.1299) [0.2500, 0.7500, 0.3945]\n",
       "PeriodicSite: Na (0.0000, 0.0000, 3.7223) [0.0000, 0.0000, 0.3555]\n",
       "PeriodicSite: Na (4.1721, 0.0000, 1.5125) [0.5000, 0.0000, 0.1445]\n",
       "PeriodicSite: Na (2.0861, 2.2513, 6.3397) [0.2500, 0.2500, 0.6055]\n",
       "PeriodicSite: Na (2.0861, 2.2513, 9.3647) [0.2500, 0.2500, 0.8945]\n",
       "PeriodicSite: Na (0.0000, 4.5025, 8.9571) [0.0000, 0.5000, 0.8555]\n",
       "PeriodicSite: Na (4.1721, 4.5025, 6.7473) [0.5000, 0.5000, 0.6445]\n",
       "PeriodicSite: H (4.6718, 2.5904, 8.5758) [0.5599, 0.2877, 0.8191]\n",
       "PeriodicSite: H (7.8445, 2.5904, 7.1286) [0.9401, 0.2877, 0.6809]\n",
       "PeriodicSite: H (7.8445, 1.9122, 8.5758) [0.9401, 0.2123, 0.8191]\n",
       "PeriodicSite: H (4.6718, 1.9122, 7.1286) [0.5599, 0.2123, 0.6809]\n",
       "PeriodicSite: H (2.5858, 8.6660, 5.9584) [0.3099, 0.9623, 0.5691]\n",
       "PeriodicSite: H (1.5863, 8.6660, 9.7460) [0.1901, 0.9623, 0.9309]\n",
       "PeriodicSite: H (6.7579, 0.3391, 9.7460) [0.8099, 0.0377, 0.9309]\n",
       "PeriodicSite: H (5.7584, 0.3391, 5.9584) [0.6901, 0.0377, 0.5691]\n",
       "PeriodicSite: H (4.6718, 7.0929, 3.3410) [0.5599, 0.7877, 0.3191]\n",
       "PeriodicSite: H (7.8445, 7.0929, 1.8938) [0.9401, 0.7877, 0.1809]\n",
       "PeriodicSite: H (7.8445, 6.4147, 3.3410) [0.9401, 0.7123, 0.3191]\n",
       "PeriodicSite: H (4.6718, 6.4147, 1.8938) [0.5599, 0.7123, 0.1809]\n",
       "PeriodicSite: H (2.5858, 4.1634, 0.7236) [0.3099, 0.4623, 0.0691]\n",
       "PeriodicSite: H (1.5863, 4.1634, 4.5112) [0.1901, 0.4623, 0.4309]\n",
       "PeriodicSite: H (6.7579, 4.8417, 4.5112) [0.8099, 0.5377, 0.4309]\n",
       "PeriodicSite: H (5.7584, 4.8417, 0.7236) [0.6901, 0.5377, 0.0691]\n",
       "PeriodicSite: H (0.4997, 2.5904, 3.3410) [0.0599, 0.2877, 0.3191]\n",
       "PeriodicSite: H (3.6724, 2.5904, 1.8938) [0.4401, 0.2877, 0.1809]\n",
       "PeriodicSite: H (3.6724, 1.9122, 3.3410) [0.4401, 0.2123, 0.3191]\n",
       "PeriodicSite: H (0.4997, 1.9122, 1.8938) [0.0599, 0.2123, 0.1809]\n",
       "PeriodicSite: H (6.7579, 8.6660, 0.7236) [0.8099, 0.9623, 0.0691]\n",
       "PeriodicSite: H (5.7584, 8.6660, 4.5112) [0.6901, 0.9623, 0.4309]\n",
       "PeriodicSite: H (2.5858, 0.3391, 4.5112) [0.3099, 0.0377, 0.4309]\n",
       "PeriodicSite: H (1.5863, 0.3391, 0.7236) [0.1901, 0.0377, 0.0691]\n",
       "PeriodicSite: H (0.4997, 7.0929, 8.5758) [0.0599, 0.7877, 0.8191]\n",
       "PeriodicSite: H (3.6724, 7.0929, 7.1286) [0.4401, 0.7877, 0.6809]\n",
       "PeriodicSite: H (3.6724, 6.4147, 8.5758) [0.4401, 0.7123, 0.8191]\n",
       "PeriodicSite: H (0.4997, 6.4147, 7.1286) [0.0599, 0.7123, 0.6809]\n",
       "PeriodicSite: H (6.7579, 4.1634, 5.9584) [0.8099, 0.4623, 0.5691]\n",
       "PeriodicSite: H (5.7584, 4.1634, 9.7460) [0.6901, 0.4623, 0.9309]\n",
       "PeriodicSite: H (2.5858, 4.8417, 9.7460) [0.3099, 0.5377, 0.9309]\n",
       "PeriodicSite: H (1.5863, 4.8417, 5.9584) [0.1901, 0.5377, 0.5691]\n",
       "PeriodicSite: N (8.1918, 6.7538, 7.8522) [0.9817, 0.7500, 0.7500]\n",
       "PeriodicSite: N (4.3246, 6.7538, 7.8522) [0.5183, 0.7500, 0.7500]\n",
       "PeriodicSite: N (6.1057, 0.0000, 0.0000) [0.7317, 0.0000, 0.0000]\n",
       "PeriodicSite: N (2.2385, 0.0000, 0.0000) [0.2683, 0.0000, 0.0000]\n",
       "PeriodicSite: N (8.1918, 2.2513, 2.6174) [0.9817, 0.2500, 0.2500]\n",
       "PeriodicSite: N (4.3246, 2.2513, 2.6174) [0.5183, 0.2500, 0.2500]\n",
       "PeriodicSite: N (6.1057, 4.5025, 5.2348) [0.7317, 0.5000, 0.5000]\n",
       "PeriodicSite: N (2.2385, 4.5025, 5.2348) [0.2683, 0.5000, 0.5000]\n",
       "PeriodicSite: N (4.0197, 6.7538, 2.6174) [0.4817, 0.7500, 0.2500]\n",
       "PeriodicSite: N (0.1524, 6.7538, 2.6174) [0.0183, 0.7500, 0.2500]\n",
       "PeriodicSite: N (1.9336, 0.0000, 5.2348) [0.2317, 0.0000, 0.5000]\n",
       "PeriodicSite: N (6.4106, 0.0000, 5.2348) [0.7683, 0.0000, 0.5000]\n",
       "PeriodicSite: N (4.0197, 2.2513, 7.8522) [0.4817, 0.2500, 0.7500]\n",
       "PeriodicSite: N (0.1524, 2.2513, 7.8522) [0.0183, 0.2500, 0.7500]\n",
       "PeriodicSite: N (1.9336, 4.5025, 0.0000) [0.2317, 0.5000, 0.0000]\n",
       "PeriodicSite: N (6.4106, 4.5025, 0.0000) [0.7683, 0.5000, 0.0000]"
      ]
     },
     "execution_count": 16,
     "metadata": {},
     "output_type": "execute_result"
    }
   ],
   "source": [
    "from pymatgen.symmetry.analyzer import SpacegroupAnalyzer\n",
    "rstructure = SpacegroupAnalyzer(structure).get_refined_structure()\n",
    "rstructure"
   ]
  },
  {
   "cell_type": "code",
   "execution_count": 20,
   "id": "f3b135d9",
   "metadata": {},
   "outputs": [],
   "source": [
    "def rstruc_coords(number_Na=16, number_H=32, number_N=16):\n",
    "    Na_x = arr.array('f', [])\n",
    "    H_x = arr.array('f', [])\n",
    "    N_x = arr.array('f', [])\n",
    "    \n",
    "    Na_y = arr.array('f', [])\n",
    "    H_y = arr.array('f', [])\n",
    "    N_y = arr.array('f', [])\n",
    "    \n",
    "    Na_z = arr.array('f', [])\n",
    "    H_z = arr.array('f', [])\n",
    "    N_z = arr.array('f', [])\n",
    "    \n",
    "    for i in range(0, number_Na):\n",
    "        Na_x.append(rstructure.sites[i].coords[0])\n",
    "    for j in range(number_Na, (number_Na+number_H+1)):\n",
    "        H_x.append(rstructure.sites[j].coords[0])\n",
    "    for k in range((number_Na+number_H+1), (number_Na+number_H+number_N)):\n",
    "        N_x.append(rstructure.sites[k].coords[0])\n",
    "        \n",
    "    for i in range(0, number_Na):\n",
    "        Na_y.append(rstructure.sites[i].coords[1])\n",
    "    for j in range(number_Na, (number_Na+number_H+1)):\n",
    "        H_y.append(rstructure.sites[j].coords[1])\n",
    "    for k in range((number_Na+number_H+1), (number_Na+number_H+number_N)):\n",
    "        N_y.append(rstructure.sites[k].coords[1])\n",
    "        \n",
    "    for i in range(0, number_Na):\n",
    "        Na_z.append(rstructure.sites[i].coords[2])\n",
    "    for j in range(number_Na, (number_Na+number_H+1)):\n",
    "        H_z.append(rstructure.sites[j].coords[2])\n",
    "    for k in range((number_Na+number_H+1), (number_Na+number_H+number_N)):\n",
    "        N_z.append(rstructure.sites[k].coords[2])\n",
    "        \n",
    "    return Na_x, H_x, N_x, Na_y, H_y, N_y, Na_z, H_z, N_z\n",
    "        \n",
    "Na_x, H_x, N_x, Na_y, H_y, N_y, Na_z, H_z, N_z = rstruc_coords()"
   ]
  },
  {
   "cell_type": "code",
   "execution_count": 21,
   "id": "a03056fc",
   "metadata": {},
   "outputs": [],
   "source": [
    "# visualises the unit cell\n",
    "mlab.figure(bgcolor=(1., 1., 1.))\n",
    "mlab.points3d(Na_x, Na_y, Na_z, color=(0., 1., 0.), scale_factor=0.8)\n",
    "mlab.points3d(H_x, H_y, H_z, color=(1., 0., 0.), scale_factor=0.3)\n",
    "mlab.points3d(N_x, N_y, N_z, color=(0., 0., 1.), scale_factor=0.6)\n",
    "\n",
    "#mlab.points3d(3.6724, 2.5904, 1.8938, color=(0., 1., 1.), scale_factor=0.6) # uncomment to highlight chosen hydrogen\n",
    "#mlab.points3d(3.6724, 1.9122, 3.3410, color=(0., 1., 1.), scale_factor=0.6) # uncomment to highlight chosen hydrogen\n",
    "plot_axes(1.5)\n",
    "\n",
    "mlab.outline(extent = [0, 8.34421466, 0, 9.00508907, 0, 10.46958114], color = (0.,0.,0.), opacity = 0.4)\n",
    "#mlab.show()"
   ]
  },
  {
   "cell_type": "markdown",
   "id": "1abf9b39",
   "metadata": {},
   "source": [
    "Amide Chosen: \n",
    "- H (3.6724, 2.5904, 1.8938) [0.4401, 0.2877, 0.1809] - index 33 - H 18 in .castep\n",
    "- H (3.6724, 1.9122, 3.3410) [0.4401, 0.2123, 0.3191] - index 34 - H 19 in .castep\n",
    "- N (4.3246, 2.2513, 2.6174) [0.5183, 0.2500, 0.2500] - index 53 - N 6 in .castep"
   ]
  },
  {
   "cell_type": "code",
   "execution_count": 16,
   "id": "8c8c5b6d",
   "metadata": {},
   "outputs": [],
   "source": [
    "def create_cif(n_grid=100, n_circ=8, amide_angle=101.5643):\n",
    "    # creates new cif from the imported one by shifting the chosen amide's hydrogen to each in the array of orientations produced with the spherical grid\n",
    "    amide_centre = np.array([4.3246, 2.2513, 2.6174])\n",
    "    x1, y1, z1, x2, y2, z2 = iterate(n_grid, n_circ, amide_angle)\n",
    "    \n",
    "    x1c = x1 + amide_centre[0]\n",
    "    y1c = y1 + amide_centre[1]\n",
    "    z1c = z1 + amide_centre[2]\n",
    "    \n",
    "    x2c = x2 + amide_centre[0]\n",
    "    y2c = y2 + amide_centre[1]\n",
    "    z2c = z2 + amide_centre[2]\n",
    "    \n",
    "    for i in range(0, len(x1c+1)):\n",
    "        new_struc = rstructure.copy()\n",
    "        new_struc.sites[33].coords = [x1c[i], y1c[i], z1c[i]]\n",
    "        new_struc.sites[34].coords = [x2c[i], y2c[i], z2c[i]]\n",
    "    \n",
    "        w = CifWriter(new_struc)\n",
    "        file = 'C:\\\\Users\\\\Path\\\\' + str(i+1) + '.cif'\n",
    "        w.write_file(file)"
   ]
  },
  {
   "cell_type": "code",
   "execution_count": 17,
   "id": "5b5ab084",
   "metadata": {},
   "outputs": [],
   "source": [
    "#create_cif()"
   ]
  },
  {
   "cell_type": "code",
   "execution_count": null,
   "id": "004b9c45",
   "metadata": {},
   "outputs": [],
   "source": []
  }
 ],
 "metadata": {
  "kernelspec": {
   "display_name": "Python 3 (ipykernel)",
   "language": "python",
   "name": "python3"
  },
  "language_info": {
   "codemirror_mode": {
    "name": "ipython",
    "version": 3
   },
   "file_extension": ".py",
   "mimetype": "text/x-python",
   "name": "python",
   "nbconvert_exporter": "python",
   "pygments_lexer": "ipython3",
   "version": "3.9.13"
  }
 },
 "nbformat": 4,
 "nbformat_minor": 5
}
